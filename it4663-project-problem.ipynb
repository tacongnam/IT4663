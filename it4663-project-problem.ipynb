{
 "cells": [
  {
   "cell_type": "code",
   "execution_count": 1,
   "id": "ecf844c3",
   "metadata": {
    "_cell_guid": "b1076dfc-b9ad-4769-8c92-a6c4dae69d19",
    "_uuid": "8f2839f25d086af736a60e9eeb907d3b93b6e0e5",
    "execution": {
     "iopub.execute_input": "2025-06-24T10:54:53.723072Z",
     "iopub.status.busy": "2025-06-24T10:54:53.722751Z",
     "iopub.status.idle": "2025-06-24T10:55:02.285918Z",
     "shell.execute_reply": "2025-06-24T10:55:02.284673Z"
    },
    "papermill": {
     "duration": 8.568999,
     "end_time": "2025-06-24T10:55:02.287894",
     "exception": false,
     "start_time": "2025-06-24T10:54:53.718895",
     "status": "completed"
    },
    "tags": []
   },
   "outputs": [
    {
     "name": "stdout",
     "output_type": "stream",
     "text": [
      "\r\n",
      "\r\n",
      "\r\n",
      "0 upgraded, 0 newly installed, 0 to remove and 87 not upgraded.\r\n",
      "\u001b[31mERROR: Could not find a version that satisfies the requirement git (from versions: none)\u001b[0m\u001b[31m\r\n",
      "\u001b[0m\u001b[31mERROR: No matching distribution found for git\u001b[0m\u001b[31m\r\n",
      "\u001b[0mCloning into 'IT4663'...\r\n",
      "remote: Enumerating objects: 98, done.\u001b[K\r\n",
      "remote: Counting objects: 100% (98/98), done.\u001b[K\r\n",
      "remote: Compressing objects: 100% (78/78), done.\u001b[K\r\n",
      "remote: Total 98 (delta 28), reused 83 (delta 18), pack-reused 0 (from 0)\u001b[K\r\n",
      "Receiving objects: 100% (98/98), 742.05 KiB | 12.16 MiB/s, done.\r\n",
      "Resolving deltas: 100% (28/28), done.\r\n"
     ]
    }
   ],
   "source": [
    "!git config --global --unset https.proxy\n",
    "!apt-get install\n",
    "!pip install git\n",
    "!git clone --single-branch --branch main https://github.com/tacongnam/IT4663"
   ]
  },
  {
   "cell_type": "code",
   "execution_count": 2,
   "id": "64c05cfe",
   "metadata": {
    "execution": {
     "iopub.execute_input": "2025-06-24T10:55:02.297021Z",
     "iopub.status.busy": "2025-06-24T10:55:02.296675Z",
     "iopub.status.idle": "2025-06-24T10:55:02.304844Z",
     "shell.execute_reply": "2025-06-24T10:55:02.303746Z"
    },
    "papermill": {
     "duration": 0.014697,
     "end_time": "2025-06-24T10:55:02.306398",
     "exception": false,
     "start_time": "2025-06-24T10:55:02.291701",
     "status": "completed"
    },
    "tags": []
   },
   "outputs": [
    {
     "name": "stdout",
     "output_type": "stream",
     "text": [
      "/kaggle/working/IT4663/projects\n"
     ]
    }
   ],
   "source": [
    "cd IT4663/projects"
   ]
  },
  {
   "cell_type": "markdown",
   "id": "2987596a",
   "metadata": {
    "papermill": {
     "duration": 0.003471,
     "end_time": "2025-06-24T10:55:02.313372",
     "exception": false,
     "start_time": "2025-06-24T10:55:02.309901",
     "status": "completed"
    },
    "tags": []
   },
   "source": []
  },
  {
   "cell_type": "code",
   "execution_count": 3,
   "id": "47fc8b46",
   "metadata": {
    "execution": {
     "iopub.execute_input": "2025-06-24T10:55:02.321789Z",
     "iopub.status.busy": "2025-06-24T10:55:02.321467Z",
     "iopub.status.idle": "2025-06-24T10:55:34.586444Z",
     "shell.execute_reply": "2025-06-24T10:55:34.585230Z"
    },
    "papermill": {
     "duration": 32.271634,
     "end_time": "2025-06-24T10:55:34.588562",
     "exception": false,
     "start_time": "2025-06-24T10:55:02.316928",
     "status": "completed"
    },
    "tags": []
   },
   "outputs": [
    {
     "name": "stdout",
     "output_type": "stream",
     "text": [
      "\u001b[31mERROR: pip's dependency resolver does not currently take into account all the packages that are installed. This behaviour is the source of the following dependency conflicts.\r\n",
      "google-api-core 1.34.1 requires protobuf!=3.20.0,!=3.20.1,!=4.21.0,!=4.21.1,!=4.21.2,!=4.21.3,!=4.21.4,!=4.21.5,<4.0.0dev,>=3.19.5, but you have protobuf 6.31.1 which is incompatible.\r\n",
      "google-cloud-translate 3.12.1 requires protobuf!=3.20.0,!=3.20.1,!=4.21.0,!=4.21.1,!=4.21.2,!=4.21.3,!=4.21.4,!=4.21.5,<5.0.0dev,>=3.19.5, but you have protobuf 6.31.1 which is incompatible.\r\n",
      "google-cloud-firestore 2.20.1 requires protobuf!=3.20.0,!=3.20.1,!=4.21.0,!=4.21.1,!=4.21.2,!=4.21.3,!=4.21.4,!=4.21.5,<6.0.0dev,>=3.20.2, but you have protobuf 6.31.1 which is incompatible.\r\n",
      "dopamine-rl 4.1.2 requires gymnasium>=1.0.0, but you have gymnasium 0.29.0 which is incompatible.\r\n",
      "wandb 0.19.9 requires protobuf!=4.21.0,!=5.28.0,<6,>=3.19.0; python_version > \"3.9\" and sys_platform == \"linux\", but you have protobuf 6.31.1 which is incompatible.\r\n",
      "bigframes 1.42.0 requires rich<14,>=12.4.4, but you have rich 14.0.0 which is incompatible.\r\n",
      "google-spark-connect 0.5.2 requires google-api-core>=2.19.1, but you have google-api-core 1.34.1 which is incompatible.\r\n",
      "google-ai-generativelanguage 0.6.15 requires protobuf!=4.21.0,!=4.21.1,!=4.21.2,!=4.21.3,!=4.21.4,!=4.21.5,<6.0.0dev,>=3.20.2, but you have protobuf 6.31.1 which is incompatible.\r\n",
      "google-cloud-aiplatform 1.87.0 requires protobuf!=4.21.0,!=4.21.1,!=4.21.2,!=4.21.3,!=4.21.4,!=4.21.5,<6.0.0,>=3.20.2, but you have protobuf 6.31.1 which is incompatible.\r\n",
      "tensorflow-metadata 1.17.0 requires protobuf<6.0.0,>=4.25.2; python_version >= \"3.11\", but you have protobuf 6.31.1 which is incompatible.\r\n",
      "google-cloud-bigtable 2.30.0 requires google-api-core[grpc]<3.0.0,>=2.16.0, but you have google-api-core 1.34.1 which is incompatible.\r\n",
      "google-cloud-datastore 2.20.2 requires protobuf!=3.20.0,!=3.20.1,!=4.21.0,!=4.21.1,!=4.21.2,!=4.21.3,!=4.21.4,!=4.21.5,<6.0.0dev,>=3.20.2, but you have protobuf 6.31.1 which is incompatible.\r\n",
      "google-cloud-storage 2.19.0 requires google-api-core<3.0.0dev,>=2.15.0, but you have google-api-core 1.34.1 which is incompatible.\r\n",
      "tensorflow 2.18.0 requires protobuf!=4.21.0,!=4.21.1,!=4.21.2,!=4.21.3,!=4.21.4,!=4.21.5,<6.0.0dev,>=3.20.3, but you have protobuf 6.31.1 which is incompatible.\r\n",
      "pandas-gbq 0.28.0 requires google-api-core<3.0.0dev,>=2.10.2, but you have google-api-core 1.34.1 which is incompatible.\u001b[0m\u001b[31m\r\n",
      "\u001b[0m  Attempting uninstall: absl-py\r\n",
      "    Found existing installation: absl-py 1.4.0\r\n",
      "    Uninstalling absl-py-1.4.0:\r\n",
      "      Successfully uninstalled absl-py-1.4.0\r\n",
      "Successfully installed absl-py-2.3.0 ortools-9.14.6206 protobuf-6.31.1\r\n",
      "  Downloading pulp-3.2.1-py3-none-any.whl.metadata (6.9 kB)\r\n",
      "Downloading pulp-3.2.1-py3-none-any.whl (16.4 MB)\r\n",
      "   ━━━━━━━━━━━━━━━━━━━━━━━━━━━━━━━━━━━━━━━━ 16.4/16.4 MB 76.6 MB/s eta 0:00:00\r\n",
      "Installing collected packages: pulp\r\n",
      "Successfully installed pulp-3.2.1\r\n"
     ]
    }
   ],
   "source": [
    "!pip install ortools | tail -n 5\n",
    "!pip install pulp    | tail -n 5"
   ]
  },
  {
   "cell_type": "code",
   "execution_count": 4,
   "id": "b2b10bc7",
   "metadata": {
    "execution": {
     "iopub.execute_input": "2025-06-24T10:55:34.597927Z",
     "iopub.status.busy": "2025-06-24T10:55:34.597581Z",
     "iopub.status.idle": "2025-06-24T11:06:14.852292Z",
     "shell.execute_reply": "2025-06-24T11:06:14.851013Z"
    },
    "papermill": {
     "duration": 640.261977,
     "end_time": "2025-06-24T11:06:14.854489",
     "exception": false,
     "start_time": "2025-06-24T10:55:34.592512",
     "status": "completed"
    },
    "tags": []
   },
   "outputs": [
    {
     "name": "stdout",
     "output_type": "stream",
     "text": [
      "Test 8\r\n",
      "--- Solving with Constraint Programming (CP) ---\r\n",
      "--- Solving with Greedy Algorithm ---\r\n",
      "--- Solving with Branch and Bound (BnB) ---\r\n",
      "(Note: This can be very slow for non-trivial inputs)\r\n",
      "| instance   | method   |   objective |       time |   ∆obj_vs_CP |   speedup_vs_CP |\r\n",
      "|:-----------|:---------|------------:|-----------:|-------------:|----------------:|\r\n",
      "| Test 8     | BnB      |           7 | 100.082    |         -169 |      0.00105637 |\r\n",
      "| Test 8     | CP       |         176 |   0.105724 |            0 |      1          |\r\n",
      "| Test 8     | Greedy   |         176 |   0.007093 |            0 |     14.9054     |\r\n",
      "Test 9\r\n",
      "--- Solving with Constraint Programming (CP) ---\r\n",
      "--- Solving with Greedy Algorithm ---\r\n",
      "--- Solving with Branch and Bound (BnB) ---\r\n",
      "(Note: This can be very slow for non-trivial inputs)\r\n",
      "Traceback (most recent call last):\r\n",
      "  File \"/kaggle/working/IT4663/projects/main.py\", line 43, in <module>\r\n",
      "    obj = fn(T, N, M, class_subjects, teacher_subjects, subject_duration, MAX_TIME_LIMIT)\r\n",
      "          ^^^^^^^^^^^^^^^^^^^^^^^^^^^^^^^^^^^^^^^^^^^^^^^^^^^^^^^^^^^^^^^^^^^^^^^^^^^^^^^\r\n",
      "  File \"/kaggle/working/IT4663/projects/branch.py\", line 70, in solve_with_bnb\r\n",
      "    backtrack(0, [], initial_class_sched, initial_teacher_sched)\r\n",
      "  File \"/kaggle/working/IT4663/projects/branch.py\", line 43, in backtrack\r\n",
      "    backtrack(job_index + 1, current_solution, class_sched, teacher_sched, depth + 1)\r\n",
      "  File \"/kaggle/working/IT4663/projects/branch.py\", line 43, in backtrack\r\n",
      "    backtrack(job_index + 1, current_solution, class_sched, teacher_sched, depth + 1)\r\n",
      "  File \"/kaggle/working/IT4663/projects/branch.py\", line 43, in backtrack\r\n",
      "    backtrack(job_index + 1, current_solution, class_sched, teacher_sched, depth + 1)\r\n",
      "  [Previous line repeated 994 more times]\r\n",
      "  File \"/kaggle/working/IT4663/projects/branch.py\", line 23, in backtrack\r\n",
      "    if time.perf_counter() - start_time > MAX_TIME_LIMIT:\r\n",
      "       ^^^^^^^^^^^^^^^^^^^\r\n",
      "RecursionError: maximum recursion depth exceeded while calling a Python object\r\n"
     ]
    }
   ],
   "source": [
    "!python main.py"
   ]
  }
 ],
 "metadata": {
  "kaggle": {
   "accelerator": "none",
   "dataSources": [],
   "dockerImageVersionId": 31040,
   "isGpuEnabled": false,
   "isInternetEnabled": true,
   "language": "python",
   "sourceType": "notebook"
  },
  "kernelspec": {
   "display_name": "Python 3",
   "language": "python",
   "name": "python3"
  },
  "language_info": {
   "codemirror_mode": {
    "name": "ipython",
    "version": 3
   },
   "file_extension": ".py",
   "mimetype": "text/x-python",
   "name": "python",
   "nbconvert_exporter": "python",
   "pygments_lexer": "ipython3",
   "version": "3.11.11"
  },
  "papermill": {
   "default_parameters": {},
   "duration": 687.067477,
   "end_time": "2025-06-24T11:06:15.381129",
   "environment_variables": {},
   "exception": null,
   "input_path": "__notebook__.ipynb",
   "output_path": "__notebook__.ipynb",
   "parameters": {},
   "start_time": "2025-06-24T10:54:48.313652",
   "version": "2.6.0"
  }
 },
 "nbformat": 4,
 "nbformat_minor": 5
}
