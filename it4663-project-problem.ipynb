{
 "cells": [
  {
   "cell_type": "code",
   "execution_count": 1,
   "id": "77ad5d2e",
   "metadata": {
    "_cell_guid": "b1076dfc-b9ad-4769-8c92-a6c4dae69d19",
    "_uuid": "8f2839f25d086af736a60e9eeb907d3b93b6e0e5",
    "execution": {
     "iopub.execute_input": "2025-06-25T10:41:34.817066Z",
     "iopub.status.busy": "2025-06-25T10:41:34.816817Z",
     "iopub.status.idle": "2025-06-25T10:41:42.750603Z",
     "shell.execute_reply": "2025-06-25T10:41:42.748977Z"
    },
    "papermill": {
     "duration": 7.938345,
     "end_time": "2025-06-25T10:41:42.752347",
     "exception": false,
     "start_time": "2025-06-25T10:41:34.814002",
     "status": "completed"
    },
    "tags": []
   },
   "outputs": [
    {
     "name": "stdout",
     "output_type": "stream",
     "text": [
      "\r\n",
      "\r\n",
      "\r\n",
      "0 upgraded, 0 newly installed, 0 to remove and 87 not upgraded.\r\n",
      "\u001b[31mERROR: Could not find a version that satisfies the requirement git (from versions: none)\u001b[0m\u001b[31m\r\n",
      "\u001b[0m\u001b[31mERROR: No matching distribution found for git\u001b[0m\u001b[31m\r\n",
      "\u001b[0mCloning into 'IT4663'...\r\n",
      "remote: Enumerating objects: 129, done.\u001b[K\r\n",
      "remote: Counting objects: 100% (129/129), done.\u001b[K\r\n",
      "remote: Compressing objects: 100% (106/106), done.\u001b[K\r\n",
      "remote: Total 129 (delta 50), reused 93 (delta 21), pack-reused 0 (from 0)\u001b[K\r\n",
      "Receiving objects: 100% (129/129), 747.04 KiB | 4.79 MiB/s, done.\r\n",
      "Resolving deltas: 100% (50/50), done.\r\n"
     ]
    }
   ],
   "source": [
    "!git config --global --unset https.proxy\n",
    "!apt-get install\n",
    "!pip install git\n",
    "!git clone --single-branch --branch main https://github.com/tacongnam/IT4663"
   ]
  },
  {
   "cell_type": "code",
   "execution_count": 2,
   "id": "4011ad62",
   "metadata": {
    "execution": {
     "iopub.execute_input": "2025-06-25T10:41:42.759084Z",
     "iopub.status.busy": "2025-06-25T10:41:42.758772Z",
     "iopub.status.idle": "2025-06-25T10:41:42.766350Z",
     "shell.execute_reply": "2025-06-25T10:41:42.765296Z"
    },
    "papermill": {
     "duration": 0.012325,
     "end_time": "2025-06-25T10:41:42.767600",
     "exception": false,
     "start_time": "2025-06-25T10:41:42.755275",
     "status": "completed"
    },
    "tags": []
   },
   "outputs": [
    {
     "name": "stdout",
     "output_type": "stream",
     "text": [
      "/kaggle/working/IT4663/projects\n"
     ]
    }
   ],
   "source": [
    "cd IT4663/projects"
   ]
  },
  {
   "cell_type": "code",
   "execution_count": 3,
   "id": "40e55b58",
   "metadata": {
    "execution": {
     "iopub.execute_input": "2025-06-25T10:41:42.773803Z",
     "iopub.status.busy": "2025-06-25T10:41:42.773475Z",
     "iopub.status.idle": "2025-06-25T10:42:13.988030Z",
     "shell.execute_reply": "2025-06-25T10:42:13.987077Z"
    },
    "papermill": {
     "duration": 31.219246,
     "end_time": "2025-06-25T10:42:13.989579",
     "exception": false,
     "start_time": "2025-06-25T10:41:42.770333",
     "status": "completed"
    },
    "tags": []
   },
   "outputs": [
    {
     "name": "stdout",
     "output_type": "stream",
     "text": [
      "\u001b[31mERROR: pip's dependency resolver does not currently take into account all the packages that are installed. This behaviour is the source of the following dependency conflicts.\r\n",
      "google-api-core 1.34.1 requires protobuf!=3.20.0,!=3.20.1,!=4.21.0,!=4.21.1,!=4.21.2,!=4.21.3,!=4.21.4,!=4.21.5,<4.0.0dev,>=3.19.5, but you have protobuf 6.31.1 which is incompatible.\r\n",
      "google-cloud-translate 3.12.1 requires protobuf!=3.20.0,!=3.20.1,!=4.21.0,!=4.21.1,!=4.21.2,!=4.21.3,!=4.21.4,!=4.21.5,<5.0.0dev,>=3.19.5, but you have protobuf 6.31.1 which is incompatible.\r\n",
      "google-cloud-firestore 2.20.1 requires protobuf!=3.20.0,!=3.20.1,!=4.21.0,!=4.21.1,!=4.21.2,!=4.21.3,!=4.21.4,!=4.21.5,<6.0.0dev,>=3.20.2, but you have protobuf 6.31.1 which is incompatible.\r\n",
      "dopamine-rl 4.1.2 requires gymnasium>=1.0.0, but you have gymnasium 0.29.0 which is incompatible.\r\n",
      "wandb 0.19.9 requires protobuf!=4.21.0,!=5.28.0,<6,>=3.19.0; python_version > \"3.9\" and sys_platform == \"linux\", but you have protobuf 6.31.1 which is incompatible.\r\n",
      "bigframes 1.42.0 requires rich<14,>=12.4.4, but you have rich 14.0.0 which is incompatible.\r\n",
      "google-spark-connect 0.5.2 requires google-api-core>=2.19.1, but you have google-api-core 1.34.1 which is incompatible.\r\n",
      "google-ai-generativelanguage 0.6.15 requires protobuf!=4.21.0,!=4.21.1,!=4.21.2,!=4.21.3,!=4.21.4,!=4.21.5,<6.0.0dev,>=3.20.2, but you have protobuf 6.31.1 which is incompatible.\r\n",
      "google-cloud-aiplatform 1.87.0 requires protobuf!=4.21.0,!=4.21.1,!=4.21.2,!=4.21.3,!=4.21.4,!=4.21.5,<6.0.0,>=3.20.2, but you have protobuf 6.31.1 which is incompatible.\r\n",
      "tensorflow-metadata 1.17.0 requires protobuf<6.0.0,>=4.25.2; python_version >= \"3.11\", but you have protobuf 6.31.1 which is incompatible.\r\n",
      "google-cloud-bigtable 2.30.0 requires google-api-core[grpc]<3.0.0,>=2.16.0, but you have google-api-core 1.34.1 which is incompatible.\r\n",
      "google-cloud-datastore 2.20.2 requires protobuf!=3.20.0,!=3.20.1,!=4.21.0,!=4.21.1,!=4.21.2,!=4.21.3,!=4.21.4,!=4.21.5,<6.0.0dev,>=3.20.2, but you have protobuf 6.31.1 which is incompatible.\r\n",
      "google-cloud-storage 2.19.0 requires google-api-core<3.0.0dev,>=2.15.0, but you have google-api-core 1.34.1 which is incompatible.\r\n",
      "tensorflow 2.18.0 requires protobuf!=4.21.0,!=4.21.1,!=4.21.2,!=4.21.3,!=4.21.4,!=4.21.5,<6.0.0dev,>=3.20.3, but you have protobuf 6.31.1 which is incompatible.\r\n",
      "pandas-gbq 0.28.0 requires google-api-core<3.0.0dev,>=2.10.2, but you have google-api-core 1.34.1 which is incompatible.\u001b[0m\u001b[31m\r\n",
      "\u001b[0mSuccessfully installed absl-py-2.3.0 ortools-9.14.6206 protobuf-6.31.1\r\n",
      "Successfully installed pulp-3.2.1\r\n"
     ]
    }
   ],
   "source": [
    "!pip install ortools | tail -n 1\n",
    "!pip install pulp    | tail -n 1"
   ]
  },
  {
   "cell_type": "code",
   "execution_count": 4,
   "id": "1496862e",
   "metadata": {
    "execution": {
     "iopub.execute_input": "2025-06-25T10:42:13.996182Z",
     "iopub.status.busy": "2025-06-25T10:42:13.995930Z",
     "iopub.status.idle": "2025-06-25T10:42:16.429932Z",
     "shell.execute_reply": "2025-06-25T10:42:16.428467Z"
    },
    "papermill": {
     "duration": 2.438927,
     "end_time": "2025-06-25T10:42:16.431352",
     "exception": false,
     "start_time": "2025-06-25T10:42:13.992425",
     "status": "completed"
    },
    "tags": []
   },
   "outputs": [
    {
     "name": "stdout",
     "output_type": "stream",
     "text": [
      "Test 11\r\n",
      "Traceback (most recent call last):\r\n",
      "  File \"/kaggle/working/IT4663/projects/main.py\", line 50, in <module>\r\n",
      "    example_input = parse_input_file(f'tests/test{test_id}.txt')\r\n",
      "                    ^^^^^^^^^^^^^^^^^^^^^^^^^^^^^^^^^^^^^^^^^^^^\r\n",
      "  File \"/kaggle/working/IT4663/projects/main.py\", line 15, in parse_input_file\r\n",
      "    with open(path, \"r\", encoding=\"utf-8\") as f:\r\n",
      "         ^^^^^^^^^^^^^^^^^^^^^^^^^^^^^^^^^\r\n",
      "FileNotFoundError: [Errno 2] No such file or directory: 'tests/test11.txt'\r\n"
     ]
    }
   ],
   "source": [
    "!python main.py --limit 1800 --tmin 0 --tmax 11 --inv True --algo i"
   ]
  }
 ],
 "metadata": {
  "kaggle": {
   "accelerator": "none",
   "dataSources": [],
   "dockerImageVersionId": 31040,
   "isGpuEnabled": false,
   "isInternetEnabled": true,
   "language": "python",
   "sourceType": "notebook"
  },
  "kernelspec": {
   "display_name": "Python 3",
   "language": "python",
   "name": "python3"
  },
  "language_info": {
   "codemirror_mode": {
    "name": "ipython",
    "version": 3
   },
   "file_extension": ".py",
   "mimetype": "text/x-python",
   "name": "python",
   "nbconvert_exporter": "python",
   "pygments_lexer": "ipython3",
   "version": "3.11.11"
  },
  "papermill": {
   "default_parameters": {},
   "duration": 46.528021,
   "end_time": "2025-06-25T10:42:16.854804",
   "environment_variables": {},
   "exception": null,
   "input_path": "__notebook__.ipynb",
   "output_path": "__notebook__.ipynb",
   "parameters": {},
   "start_time": "2025-06-25T10:41:30.326783",
   "version": "2.6.0"
  }
 },
 "nbformat": 4,
 "nbformat_minor": 5
}
