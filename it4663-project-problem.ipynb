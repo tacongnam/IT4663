{
 "cells": [
  {
   "cell_type": "code",
   "execution_count": 1,
   "id": "c6927863",
   "metadata": {
    "_cell_guid": "b1076dfc-b9ad-4769-8c92-a6c4dae69d19",
    "_uuid": "8f2839f25d086af736a60e9eeb907d3b93b6e0e5",
    "execution": {
     "iopub.execute_input": "2025-06-24T01:27:35.245614Z",
     "iopub.status.busy": "2025-06-24T01:27:35.245229Z",
     "iopub.status.idle": "2025-06-24T01:27:42.426726Z",
     "shell.execute_reply": "2025-06-24T01:27:42.425727Z"
    },
    "papermill": {
     "duration": 7.186744,
     "end_time": "2025-06-24T01:27:42.428563",
     "exception": false,
     "start_time": "2025-06-24T01:27:35.241819",
     "status": "completed"
    },
    "tags": []
   },
   "outputs": [
    {
     "name": "stdout",
     "output_type": "stream",
     "text": [
      "\r\n",
      "\r\n",
      "\r\n",
      "0 upgraded, 0 newly installed, 0 to remove and 87 not upgraded.\r\n",
      "\u001b[31mERROR: Could not find a version that satisfies the requirement git (from versions: none)\u001b[0m\u001b[31m\r\n",
      "\u001b[0m\u001b[31mERROR: No matching distribution found for git\u001b[0m\u001b[31m\r\n",
      "\u001b[0mCloning into 'IT4663'...\r\n",
      "remote: Enumerating objects: 76, done.\u001b[K\r\n",
      "remote: Counting objects: 100% (76/76), done.\u001b[K\r\n",
      "remote: Compressing objects: 100% (68/68), done.\u001b[K\r\n",
      "remote: Total 76 (delta 12), reused 65 (delta 6), pack-reused 0 (from 0)\u001b[K\r\n",
      "Receiving objects: 100% (76/76), 735.70 KiB | 13.38 MiB/s, done.\r\n",
      "Resolving deltas: 100% (12/12), done.\r\n"
     ]
    }
   ],
   "source": [
    "!git config --global --unset https.proxy\n",
    "!apt-get install\n",
    "!pip install git\n",
    "!git clone --single-branch --branch main https://github.com/tacongnam/IT4663"
   ]
  },
  {
   "cell_type": "code",
   "execution_count": 2,
   "id": "07d0f485",
   "metadata": {
    "execution": {
     "iopub.execute_input": "2025-06-24T01:27:42.436445Z",
     "iopub.status.busy": "2025-06-24T01:27:42.436128Z",
     "iopub.status.idle": "2025-06-24T01:27:42.442811Z",
     "shell.execute_reply": "2025-06-24T01:27:42.441963Z"
    },
    "papermill": {
     "duration": 0.012078,
     "end_time": "2025-06-24T01:27:42.444167",
     "exception": false,
     "start_time": "2025-06-24T01:27:42.432089",
     "status": "completed"
    },
    "tags": []
   },
   "outputs": [
    {
     "name": "stdout",
     "output_type": "stream",
     "text": [
      "/kaggle/working/IT4663/projects\n"
     ]
    }
   ],
   "source": [
    "cd IT4663/projects"
   ]
  },
  {
   "cell_type": "markdown",
   "id": "80cb0b71",
   "metadata": {
    "papermill": {
     "duration": 0.002875,
     "end_time": "2025-06-24T01:27:42.450226",
     "exception": false,
     "start_time": "2025-06-24T01:27:42.447351",
     "status": "completed"
    },
    "tags": []
   },
   "source": []
  },
  {
   "cell_type": "code",
   "execution_count": 3,
   "id": "e041a3fa",
   "metadata": {
    "execution": {
     "iopub.execute_input": "2025-06-24T01:27:42.457318Z",
     "iopub.status.busy": "2025-06-24T01:27:42.457052Z",
     "iopub.status.idle": "2025-06-24T01:28:06.411695Z",
     "shell.execute_reply": "2025-06-24T01:28:06.410517Z"
    },
    "papermill": {
     "duration": 23.960269,
     "end_time": "2025-06-24T01:28:06.413418",
     "exception": false,
     "start_time": "2025-06-24T01:27:42.453149",
     "status": "completed"
    },
    "tags": []
   },
   "outputs": [
    {
     "name": "stdout",
     "output_type": "stream",
     "text": [
      "\u001b[31mERROR: pip's dependency resolver does not currently take into account all the packages that are installed. This behaviour is the source of the following dependency conflicts.\r\n",
      "google-api-core 1.34.1 requires protobuf!=3.20.0,!=3.20.1,!=4.21.0,!=4.21.1,!=4.21.2,!=4.21.3,!=4.21.4,!=4.21.5,<4.0.0dev,>=3.19.5, but you have protobuf 6.31.1 which is incompatible.\r\n",
      "google-cloud-translate 3.12.1 requires protobuf!=3.20.0,!=3.20.1,!=4.21.0,!=4.21.1,!=4.21.2,!=4.21.3,!=4.21.4,!=4.21.5,<5.0.0dev,>=3.19.5, but you have protobuf 6.31.1 which is incompatible.\r\n",
      "google-cloud-firestore 2.20.1 requires protobuf!=3.20.0,!=3.20.1,!=4.21.0,!=4.21.1,!=4.21.2,!=4.21.3,!=4.21.4,!=4.21.5,<6.0.0dev,>=3.20.2, but you have protobuf 6.31.1 which is incompatible.\r\n",
      "dopamine-rl 4.1.2 requires gymnasium>=1.0.0, but you have gymnasium 0.29.0 which is incompatible.\r\n",
      "wandb 0.19.9 requires protobuf!=4.21.0,!=5.28.0,<6,>=3.19.0; python_version > \"3.9\" and sys_platform == \"linux\", but you have protobuf 6.31.1 which is incompatible.\r\n",
      "bigframes 1.42.0 requires rich<14,>=12.4.4, but you have rich 14.0.0 which is incompatible.\r\n",
      "google-spark-connect 0.5.2 requires google-api-core>=2.19.1, but you have google-api-core 1.34.1 which is incompatible.\r\n",
      "google-ai-generativelanguage 0.6.15 requires protobuf!=4.21.0,!=4.21.1,!=4.21.2,!=4.21.3,!=4.21.4,!=4.21.5,<6.0.0dev,>=3.20.2, but you have protobuf 6.31.1 which is incompatible.\r\n",
      "google-cloud-aiplatform 1.87.0 requires protobuf!=4.21.0,!=4.21.1,!=4.21.2,!=4.21.3,!=4.21.4,!=4.21.5,<6.0.0,>=3.20.2, but you have protobuf 6.31.1 which is incompatible.\r\n",
      "tensorflow-metadata 1.17.0 requires protobuf<6.0.0,>=4.25.2; python_version >= \"3.11\", but you have protobuf 6.31.1 which is incompatible.\r\n",
      "google-cloud-bigtable 2.30.0 requires google-api-core[grpc]<3.0.0,>=2.16.0, but you have google-api-core 1.34.1 which is incompatible.\r\n",
      "google-cloud-datastore 2.20.2 requires protobuf!=3.20.0,!=3.20.1,!=4.21.0,!=4.21.1,!=4.21.2,!=4.21.3,!=4.21.4,!=4.21.5,<6.0.0dev,>=3.20.2, but you have protobuf 6.31.1 which is incompatible.\r\n",
      "google-cloud-storage 2.19.0 requires google-api-core<3.0.0dev,>=2.15.0, but you have google-api-core 1.34.1 which is incompatible.\r\n",
      "tensorflow 2.18.0 requires protobuf!=4.21.0,!=4.21.1,!=4.21.2,!=4.21.3,!=4.21.4,!=4.21.5,<6.0.0dev,>=3.20.3, but you have protobuf 6.31.1 which is incompatible.\r\n",
      "pandas-gbq 0.28.0 requires google-api-core<3.0.0dev,>=2.10.2, but you have google-api-core 1.34.1 which is incompatible.\u001b[0m\u001b[31m\r\n",
      "\u001b[0m  Attempting uninstall: absl-py\r\n",
      "    Found existing installation: absl-py 1.4.0\r\n",
      "    Uninstalling absl-py-1.4.0:\r\n",
      "      Successfully uninstalled absl-py-1.4.0\r\n",
      "Successfully installed absl-py-2.3.0 ortools-9.14.6206 protobuf-6.31.1\r\n",
      "  Downloading pulp-3.2.1-py3-none-any.whl.metadata (6.9 kB)\r\n",
      "Downloading pulp-3.2.1-py3-none-any.whl (16.4 MB)\r\n",
      "   ━━━━━━━━━━━━━━━━━━━━━━━━━━━━━━━━━━━━━━━━ 16.4/16.4 MB 73.3 MB/s eta 0:00:00\r\n",
      "Installing collected packages: pulp\r\n",
      "Successfully installed pulp-3.2.1\r\n"
     ]
    }
   ],
   "source": [
    "!pip install ortools | tail -n 5\n",
    "!pip install pulp    | tail -n 5"
   ]
  },
  {
   "cell_type": "code",
   "execution_count": 4,
   "id": "406abf0e",
   "metadata": {
    "execution": {
     "iopub.execute_input": "2025-06-24T01:28:06.422255Z",
     "iopub.status.busy": "2025-06-24T01:28:06.421929Z",
     "iopub.status.idle": "2025-06-24T05:05:21.106041Z",
     "shell.execute_reply": "2025-06-24T05:05:21.104049Z"
    },
    "papermill": {
     "duration": 13034.691436,
     "end_time": "2025-06-24T05:05:21.108547",
     "exception": false,
     "start_time": "2025-06-24T01:28:06.417111",
     "status": "completed"
    },
    "tags": []
   },
   "outputs": [
    {
     "name": "stdout",
     "output_type": "stream",
     "text": [
      "Test 0\r\n",
      "--- Solving with Constraint Programming (CP) ---\r\n",
      "--- Solving with Greedy Algorithm ---\r\n",
      "--- Solving with Branch and Bound (BnB) ---\r\n",
      "(Note: This can be very slow for non-trivial inputs)\r\n",
      "| instance   | method   |   objective |     time |   ∆obj_vs_CP |   speedup_vs_CP |\r\n",
      "|:-----------|:---------|------------:|---------:|-------------:|----------------:|\r\n",
      "| Test 0     | BnB      |          12 | 0.039134 |            0 |        0.359355 |\r\n",
      "| Test 0     | CP       |          12 | 0.014063 |            0 |        1        |\r\n",
      "| Test 0     | Greedy   |          12 | 0.00043  |            0 |       32.7047   |\r\n",
      "Test 1\r\n",
      "--- Solving with Constraint Programming (CP) ---\r\n",
      "--- Solving with Greedy Algorithm ---\r\n",
      "--- Solving with Branch and Bound (BnB) ---\r\n",
      "(Note: This can be very slow for non-trivial inputs)\r\n",
      "| instance   | method   |   objective |     time |   ∆obj_vs_CP |   speedup_vs_CP |\r\n",
      "|:-----------|:---------|------------:|---------:|-------------:|----------------:|\r\n",
      "| Test 1     | BnB      |           2 | 0.000828 |            0 |         4.80435 |\r\n",
      "| Test 1     | CP       |           2 | 0.003978 |            0 |         1       |\r\n",
      "| Test 1     | Greedy   |           2 | 8.4e-05  |            0 |        47.3571  |\r\n",
      "Test 2\r\n",
      "--- Solving with Constraint Programming (CP) ---\r\n",
      "--- Solving with Greedy Algorithm ---\r\n",
      "--- Solving with Branch and Bound (BnB) ---\r\n",
      "(Note: This can be very slow for non-trivial inputs)\r\n",
      "| instance   | method   |   objective |        time |   ∆obj_vs_CP |   speedup_vs_CP |\r\n",
      "|:-----------|:---------|------------:|------------:|-------------:|----------------:|\r\n",
      "| Test 2     | BnB      |          30 | 1800.07     |         -108 |     4.84236e-05 |\r\n",
      "| Test 2     | CP       |         138 |    0.087166 |            0 |     1           |\r\n",
      "| Test 2     | Greedy   |         138 |    0.004748 |            0 |    18.3585      |\r\n",
      "Test 3\r\n",
      "--- Solving with Constraint Programming (CP) ---\r\n",
      "--- Solving with Greedy Algorithm ---\r\n",
      "--- Solving with Branch and Bound (BnB) ---\r\n",
      "(Note: This can be very slow for non-trivial inputs)\r\n",
      "| instance   | method   |   objective |        time |   ∆obj_vs_CP |   speedup_vs_CP |\r\n",
      "|:-----------|:---------|------------:|------------:|-------------:|----------------:|\r\n",
      "| Test 3     | BnB      |          52 | 1800.06     |         -116 |        0.999993 |\r\n",
      "| Test 3     | CP       |         168 | 1800.05     |            0 |        1        |\r\n",
      "| Test 3     | Greedy   |         143 |    0.020877 |          -25 |    86221.7      |\r\n",
      "Test 4\r\n",
      "--- Solving with Constraint Programming (CP) ---\r\n",
      "--- Solving with Greedy Algorithm ---\r\n",
      "--- Solving with Branch and Bound (BnB) ---\r\n",
      "(Note: This can be very slow for non-trivial inputs)\r\n",
      "| instance   | method   |   objective |        time |   ∆obj_vs_CP |   speedup_vs_CP |\r\n",
      "|:-----------|:---------|------------:|------------:|-------------:|----------------:|\r\n",
      "| Test 4     | BnB      |         150 | 1800.14     |          -51 |     0.000142263 |\r\n",
      "| Test 4     | CP       |         201 |    0.256093 |            0 |     1           |\r\n",
      "| Test 4     | Greedy   |         183 |    0.043012 |          -18 |     5.95399     |\r\n",
      "Test 5\r\n",
      "--- Solving with Constraint Programming (CP) ---\r\n",
      "--- Solving with Greedy Algorithm ---\r\n",
      "--- Solving with Branch and Bound (BnB) ---\r\n",
      "(Note: This can be very slow for non-trivial inputs)\r\n",
      "| instance   | method   |   objective |     time |   ∆obj_vs_CP |   speedup_vs_CP |\r\n",
      "|:-----------|:---------|------------:|---------:|-------------:|----------------:|\r\n",
      "| Test 5     | BnB      |           7 | 0.010541 |            0 |        0.877905 |\r\n",
      "| Test 5     | CP       |           7 | 0.009254 |            0 |        1        |\r\n",
      "| Test 5     | Greedy   |           7 | 0.000245 |            0 |       37.7714   |\r\n",
      "Test 6\r\n",
      "--- Solving with Constraint Programming (CP) ---\r\n",
      "--- Solving with Greedy Algorithm ---\r\n",
      "--- Solving with Branch and Bound (BnB) ---\r\n",
      "(Note: This can be very slow for non-trivial inputs)\r\n",
      "| instance   | method   |   objective |      time |   ∆obj_vs_CP |   speedup_vs_CP |\r\n",
      "|:-----------|:---------|------------:|----------:|-------------:|----------------:|\r\n",
      "| Test 6     | BnB      |         199 | 15.8127   |            0 |       0.0117425 |\r\n",
      "| Test 6     | CP       |         199 |  0.185681 |            0 |       1         |\r\n",
      "| Test 6     | Greedy   |         199 |  0.008213 |            0 |      22.6082    |\r\n",
      "Test 7\r\n",
      "--- Solving with Constraint Programming (CP) ---\r\n",
      "--- Solving with Greedy Algorithm ---\r\n",
      "--- Solving with Branch and Bound (BnB) ---\r\n",
      "(Note: This can be very slow for non-trivial inputs)\r\n",
      "| instance   | method   |   objective |        time |   ∆obj_vs_CP |   speedup_vs_CP |\r\n",
      "|:-----------|:---------|------------:|------------:|-------------:|----------------:|\r\n",
      "| Test 7     | BnB      |           8 | 1800.02     |          -67 |     2.20875e-05 |\r\n",
      "| Test 7     | CP       |          75 |    0.039758 |            0 |     1           |\r\n",
      "| Test 7     | Greedy   |          76 |    0.004517 |            1 |     8.80186     |\r\n",
      "Test 8\r\n",
      "--- Solving with Constraint Programming (CP) ---\r\n",
      "--- Solving with Greedy Algorithm ---\r\n",
      "--- Solving with Branch and Bound (BnB) ---\r\n",
      "(Note: This can be very slow for non-trivial inputs)\r\n",
      "| instance   | method   |   objective |        time |   ∆obj_vs_CP |   speedup_vs_CP |\r\n",
      "|:-----------|:---------|------------:|------------:|-------------:|----------------:|\r\n",
      "| Test 8     | BnB      |           7 | 1800.09     |         -169 |     5.34607e-05 |\r\n",
      "| Test 8     | CP       |         176 |    0.096234 |            0 |     1           |\r\n",
      "| Test 8     | Greedy   |         176 |    0.007163 |            0 |    13.4349      |\r\n",
      "Test 9\r\n",
      "--- Solving with Constraint Programming (CP) ---\r\n",
      "--- Solving with Greedy Algorithm ---\r\n",
      "--- Solving with Branch and Bound (BnB) ---\r\n",
      "(Note: This can be very slow for non-trivial inputs)\r\n",
      "Traceback (most recent call last):\r\n",
      "  File \"/kaggle/working/IT4663/projects/main.py\", line 41, in <module>\r\n",
      "    obj = fn(T, N, M, class_subjects, teacher_subjects, subject_duration)\r\n",
      "          ^^^^^^^^^^^^^^^^^^^^^^^^^^^^^^^^^^^^^^^^^^^^^^^^^^^^^^^^^^^^^^^\r\n",
      "  File \"/kaggle/working/IT4663/projects/branch.py\", line 66, in solve_with_bnb\r\n",
      "    backtrack(0, [], initial_class_sched, initial_teacher_sched)\r\n",
      "  File \"/kaggle/working/IT4663/projects/branch.py\", line 39, in backtrack\r\n",
      "    backtrack(job_index + 1, current_solution, class_sched, teacher_sched)\r\n",
      "  File \"/kaggle/working/IT4663/projects/branch.py\", line 39, in backtrack\r\n",
      "    backtrack(job_index + 1, current_solution, class_sched, teacher_sched)\r\n",
      "  File \"/kaggle/working/IT4663/projects/branch.py\", line 39, in backtrack\r\n",
      "    backtrack(job_index + 1, current_solution, class_sched, teacher_sched)\r\n",
      "  [Previous line repeated 994 more times]\r\n",
      "  File \"/kaggle/working/IT4663/projects/branch.py\", line 22, in backtrack\r\n",
      "    if time.perf_counter() - start_time > 1800.0:\r\n",
      "       ^^^^^^^^^^^^^^^^^^^\r\n",
      "RecursionError: maximum recursion depth exceeded while calling a Python object\r\n"
     ]
    }
   ],
   "source": [
    "!python main.py"
   ]
  }
 ],
 "metadata": {
  "kaggle": {
   "accelerator": "none",
   "dataSources": [],
   "dockerImageVersionId": 31040,
   "isGpuEnabled": false,
   "isInternetEnabled": true,
   "language": "python",
   "sourceType": "notebook"
  },
  "kernelspec": {
   "display_name": "Python 3",
   "language": "python",
   "name": "python3"
  },
  "language_info": {
   "codemirror_mode": {
    "name": "ipython",
    "version": 3
   },
   "file_extension": ".py",
   "mimetype": "text/x-python",
   "name": "python",
   "nbconvert_exporter": "python",
   "pygments_lexer": "ipython3",
   "version": "3.11.11"
  },
  "papermill": {
   "default_parameters": {},
   "duration": 13070.918104,
   "end_time": "2025-06-24T05:05:21.560976",
   "environment_variables": {},
   "exception": null,
   "input_path": "__notebook__.ipynb",
   "output_path": "__notebook__.ipynb",
   "parameters": {},
   "start_time": "2025-06-24T01:27:30.642872",
   "version": "2.6.0"
  }
 },
 "nbformat": 4,
 "nbformat_minor": 5
}
