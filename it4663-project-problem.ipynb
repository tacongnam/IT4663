{
 "cells": [
  {
   "cell_type": "code",
   "execution_count": 1,
   "id": "c30bafd0",
   "metadata": {
    "_cell_guid": "b1076dfc-b9ad-4769-8c92-a6c4dae69d19",
    "_uuid": "8f2839f25d086af736a60e9eeb907d3b93b6e0e5",
    "execution": {
     "iopub.execute_input": "2025-06-24T12:01:55.543651Z",
     "iopub.status.busy": "2025-06-24T12:01:55.543320Z",
     "iopub.status.idle": "2025-06-24T12:02:02.702806Z",
     "shell.execute_reply": "2025-06-24T12:02:02.701734Z"
    },
    "papermill": {
     "duration": 7.164588,
     "end_time": "2025-06-24T12:02:02.704606",
     "exception": false,
     "start_time": "2025-06-24T12:01:55.540018",
     "status": "completed"
    },
    "tags": []
   },
   "outputs": [
    {
     "name": "stdout",
     "output_type": "stream",
     "text": [
      "\r\n",
      "\r\n",
      "\r\n",
      "0 upgraded, 0 newly installed, 0 to remove and 87 not upgraded.\r\n",
      "\u001b[31mERROR: Could not find a version that satisfies the requirement git (from versions: none)\u001b[0m\u001b[31m\r\n",
      "\u001b[0m\u001b[31mERROR: No matching distribution found for git\u001b[0m\u001b[31m\r\n",
      "\u001b[0mCloning into 'IT4663'...\r\n",
      "remote: Enumerating objects: 120, done.\u001b[K\r\n",
      "remote: Counting objects: 100% (120/120), done.\u001b[K\r\n",
      "remote: Compressing objects: 100% (99/99), done.\u001b[K\r\n",
      "remote: Total 120 (delta 44), reused 89 (delta 19), pack-reused 0 (from 0)\u001b[K\r\n",
      "Receiving objects: 100% (120/120), 744.64 KiB | 7.16 MiB/s, done.\r\n",
      "Resolving deltas: 100% (44/44), done.\r\n"
     ]
    }
   ],
   "source": [
    "!git config --global --unset https.proxy\n",
    "!apt-get install\n",
    "!pip install git\n",
    "!git clone --single-branch --branch main https://github.com/tacongnam/IT4663"
   ]
  },
  {
   "cell_type": "code",
   "execution_count": 2,
   "id": "a64cca67",
   "metadata": {
    "execution": {
     "iopub.execute_input": "2025-06-24T12:02:02.712852Z",
     "iopub.status.busy": "2025-06-24T12:02:02.712530Z",
     "iopub.status.idle": "2025-06-24T12:02:02.720793Z",
     "shell.execute_reply": "2025-06-24T12:02:02.719916Z"
    },
    "papermill": {
     "duration": 0.013745,
     "end_time": "2025-06-24T12:02:02.722073",
     "exception": false,
     "start_time": "2025-06-24T12:02:02.708328",
     "status": "completed"
    },
    "tags": []
   },
   "outputs": [
    {
     "name": "stdout",
     "output_type": "stream",
     "text": [
      "/kaggle/working/IT4663/projects\n"
     ]
    }
   ],
   "source": [
    "cd IT4663/projects"
   ]
  },
  {
   "cell_type": "code",
   "execution_count": 3,
   "id": "c9668574",
   "metadata": {
    "execution": {
     "iopub.execute_input": "2025-06-24T12:02:02.730054Z",
     "iopub.status.busy": "2025-06-24T12:02:02.729756Z",
     "iopub.status.idle": "2025-06-24T12:02:24.835362Z",
     "shell.execute_reply": "2025-06-24T12:02:24.834410Z"
    },
    "papermill": {
     "duration": 22.11135,
     "end_time": "2025-06-24T12:02:24.836993",
     "exception": false,
     "start_time": "2025-06-24T12:02:02.725643",
     "status": "completed"
    },
    "tags": []
   },
   "outputs": [
    {
     "name": "stdout",
     "output_type": "stream",
     "text": [
      "\u001b[31mERROR: pip's dependency resolver does not currently take into account all the packages that are installed. This behaviour is the source of the following dependency conflicts.\r\n",
      "google-api-core 1.34.1 requires protobuf!=3.20.0,!=3.20.1,!=4.21.0,!=4.21.1,!=4.21.2,!=4.21.3,!=4.21.4,!=4.21.5,<4.0.0dev,>=3.19.5, but you have protobuf 6.31.1 which is incompatible.\r\n",
      "google-cloud-translate 3.12.1 requires protobuf!=3.20.0,!=3.20.1,!=4.21.0,!=4.21.1,!=4.21.2,!=4.21.3,!=4.21.4,!=4.21.5,<5.0.0dev,>=3.19.5, but you have protobuf 6.31.1 which is incompatible.\r\n",
      "google-cloud-firestore 2.20.1 requires protobuf!=3.20.0,!=3.20.1,!=4.21.0,!=4.21.1,!=4.21.2,!=4.21.3,!=4.21.4,!=4.21.5,<6.0.0dev,>=3.20.2, but you have protobuf 6.31.1 which is incompatible.\r\n",
      "dopamine-rl 4.1.2 requires gymnasium>=1.0.0, but you have gymnasium 0.29.0 which is incompatible.\r\n",
      "wandb 0.19.9 requires protobuf!=4.21.0,!=5.28.0,<6,>=3.19.0; python_version > \"3.9\" and sys_platform == \"linux\", but you have protobuf 6.31.1 which is incompatible.\r\n",
      "bigframes 1.42.0 requires rich<14,>=12.4.4, but you have rich 14.0.0 which is incompatible.\r\n",
      "google-spark-connect 0.5.2 requires google-api-core>=2.19.1, but you have google-api-core 1.34.1 which is incompatible.\r\n",
      "google-ai-generativelanguage 0.6.15 requires protobuf!=4.21.0,!=4.21.1,!=4.21.2,!=4.21.3,!=4.21.4,!=4.21.5,<6.0.0dev,>=3.20.2, but you have protobuf 6.31.1 which is incompatible.\r\n",
      "google-cloud-aiplatform 1.87.0 requires protobuf!=4.21.0,!=4.21.1,!=4.21.2,!=4.21.3,!=4.21.4,!=4.21.5,<6.0.0,>=3.20.2, but you have protobuf 6.31.1 which is incompatible.\r\n",
      "tensorflow-metadata 1.17.0 requires protobuf<6.0.0,>=4.25.2; python_version >= \"3.11\", but you have protobuf 6.31.1 which is incompatible.\r\n",
      "google-cloud-bigtable 2.30.0 requires google-api-core[grpc]<3.0.0,>=2.16.0, but you have google-api-core 1.34.1 which is incompatible.\r\n",
      "google-cloud-datastore 2.20.2 requires protobuf!=3.20.0,!=3.20.1,!=4.21.0,!=4.21.1,!=4.21.2,!=4.21.3,!=4.21.4,!=4.21.5,<6.0.0dev,>=3.20.2, but you have protobuf 6.31.1 which is incompatible.\r\n",
      "google-cloud-storage 2.19.0 requires google-api-core<3.0.0dev,>=2.15.0, but you have google-api-core 1.34.1 which is incompatible.\r\n",
      "tensorflow 2.18.0 requires protobuf!=4.21.0,!=4.21.1,!=4.21.2,!=4.21.3,!=4.21.4,!=4.21.5,<6.0.0dev,>=3.20.3, but you have protobuf 6.31.1 which is incompatible.\r\n",
      "pandas-gbq 0.28.0 requires google-api-core<3.0.0dev,>=2.10.2, but you have google-api-core 1.34.1 which is incompatible.\u001b[0m\u001b[31m\r\n",
      "\u001b[0mSuccessfully installed absl-py-2.3.0 ortools-9.14.6206 protobuf-6.31.1\r\n",
      "Successfully installed pulp-3.2.1\r\n"
     ]
    }
   ],
   "source": [
    "!pip install ortools | tail -n 1\n",
    "!pip install pulp    | tail -n 1"
   ]
  },
  {
   "cell_type": "code",
   "execution_count": 4,
   "id": "ffa82580",
   "metadata": {
    "execution": {
     "iopub.execute_input": "2025-06-24T12:02:24.845320Z",
     "iopub.status.busy": "2025-06-24T12:02:24.845015Z",
     "iopub.status.idle": "2025-06-24T16:39:39.433813Z",
     "shell.execute_reply": "2025-06-24T16:39:39.431925Z"
    },
    "papermill": {
     "duration": 16634.595212,
     "end_time": "2025-06-24T16:39:39.435822",
     "exception": false,
     "start_time": "2025-06-24T12:02:24.840610",
     "status": "completed"
    },
    "tags": []
   },
   "outputs": [
    {
     "name": "stdout",
     "output_type": "stream",
     "text": [
      "Test 1\r\n",
      "--- Solving with Constraint Programming (CP) ---\r\n",
      "--- Solving with Greedy Algorithm ---\r\n",
      "--- Solving with Branch and Bound (BnB) ---\r\n",
      "(Note: This can be very slow for non-trivial inputs)\r\n",
      "| instance   | method   |   objective |     time |   ∆obj_vs_CP |   speedup_vs_CP |\r\n",
      "|:-----------|:---------|------------:|---------:|-------------:|----------------:|\r\n",
      "| Test 1     | BnB      |           2 | 0.001199 |            0 |         8.14929 |\r\n",
      "| Test 1     | CP       |           2 | 0.009771 |            0 |         1       |\r\n",
      "| Test 1     | Greedy   |           2 | 0.000108 |            0 |        90.4722  |\r\n",
      "Test 2\r\n",
      "--- Solving with Constraint Programming (CP) ---\r\n",
      "--- Solving with Greedy Algorithm ---\r\n",
      "--- Solving with Branch and Bound (BnB) ---\r\n",
      "(Note: This can be very slow for non-trivial inputs)\r\n",
      "| instance   | method   |   objective |        time |   ∆obj_vs_CP |   speedup_vs_CP |\r\n",
      "|:-----------|:---------|------------:|------------:|-------------:|----------------:|\r\n",
      "| Test 2     | BnB      |          30 | 1800.07     |         -108 |     4.90698e-05 |\r\n",
      "| Test 2     | CP       |         138 |    0.088329 |            0 |     1           |\r\n",
      "| Test 2     | Greedy   |         138 |    0.004914 |            0 |    17.975       |\r\n",
      "Test 3\r\n",
      "--- Solving with Constraint Programming (CP) ---\r\n",
      "--- Solving with Greedy Algorithm ---\r\n",
      "--- Solving with Branch and Bound (BnB) ---\r\n",
      "(Note: This can be very slow for non-trivial inputs)\r\n",
      "| instance   | method   |   objective |        time |   ∆obj_vs_CP |   speedup_vs_CP |\r\n",
      "|:-----------|:---------|------------:|------------:|-------------:|----------------:|\r\n",
      "| Test 3     | BnB      |          52 | 1800.06     |         -116 |        0.999999 |\r\n",
      "| Test 3     | CP       |         168 | 1800.05     |            0 |        1        |\r\n",
      "| Test 3     | Greedy   |         143 |    0.015987 |          -25 |   112595        |\r\n",
      "Test 4\r\n",
      "--- Solving with Constraint Programming (CP) ---\r\n",
      "--- Solving with Greedy Algorithm ---\r\n",
      "--- Solving with Branch and Bound (BnB) ---\r\n",
      "(Note: This can be very slow for non-trivial inputs)\r\n",
      "| instance   | method   |   objective |        time |   ∆obj_vs_CP |   speedup_vs_CP |\r\n",
      "|:-----------|:---------|------------:|------------:|-------------:|----------------:|\r\n",
      "| Test 4     | BnB      |         150 | 1800.16     |          -51 |     0.000143779 |\r\n",
      "| Test 4     | CP       |         201 |    0.258824 |            0 |     1           |\r\n",
      "| Test 4     | Greedy   |         183 |    0.045067 |          -18 |     5.74309     |\r\n",
      "Test 5\r\n",
      "--- Solving with Constraint Programming (CP) ---\r\n",
      "--- Solving with Greedy Algorithm ---\r\n",
      "--- Solving with Branch and Bound (BnB) ---\r\n",
      "(Note: This can be very slow for non-trivial inputs)\r\n",
      "| instance   | method   |   objective |     time |   ∆obj_vs_CP |   speedup_vs_CP |\r\n",
      "|:-----------|:---------|------------:|---------:|-------------:|----------------:|\r\n",
      "| Test 5     | BnB      |           7 | 0.011915 |            0 |        0.633907 |\r\n",
      "| Test 5     | CP       |           7 | 0.007553 |            0 |        1        |\r\n",
      "| Test 5     | Greedy   |           7 | 0.00023  |            0 |       32.8391   |\r\n",
      "Test 6\r\n",
      "--- Solving with Constraint Programming (CP) ---\r\n",
      "--- Solving with Greedy Algorithm ---\r\n",
      "--- Solving with Branch and Bound (BnB) ---\r\n",
      "(Note: This can be very slow for non-trivial inputs)\r\n",
      "| instance   | method   |   objective |      time |   ∆obj_vs_CP |   speedup_vs_CP |\r\n",
      "|:-----------|:---------|------------:|----------:|-------------:|----------------:|\r\n",
      "| Test 6     | BnB      |         199 | 15.1966   |            0 |       0.0139541 |\r\n",
      "| Test 6     | CP       |         199 |  0.212054 |            0 |       1         |\r\n",
      "| Test 6     | Greedy   |         199 |  0.008473 |            0 |      25.027     |\r\n",
      "Test 7\r\n",
      "--- Solving with Constraint Programming (CP) ---\r\n",
      "--- Solving with Greedy Algorithm ---\r\n",
      "--- Solving with Branch and Bound (BnB) ---\r\n",
      "(Note: This can be very slow for non-trivial inputs)\r\n",
      "| instance   | method   |   objective |        time |   ∆obj_vs_CP |   speedup_vs_CP |\r\n",
      "|:-----------|:---------|------------:|------------:|-------------:|----------------:|\r\n",
      "| Test 7     | BnB      |           8 | 1800.02     |          -67 |     2.17903e-05 |\r\n",
      "| Test 7     | CP       |          75 |    0.039223 |            0 |     1           |\r\n",
      "| Test 7     | Greedy   |          76 |    0.005759 |            1 |     6.81073     |\r\n",
      "Test 8\r\n",
      "--- Solving with Constraint Programming (CP) ---\r\n",
      "--- Solving with Greedy Algorithm ---\r\n",
      "--- Solving with Branch and Bound (BnB) ---\r\n",
      "(Note: This can be very slow for non-trivial inputs)\r\n",
      "| instance   | method   |   objective |        time |   ∆obj_vs_CP |   speedup_vs_CP |\r\n",
      "|:-----------|:---------|------------:|------------:|-------------:|----------------:|\r\n",
      "| Test 8     | BnB      |           7 | 1800.08     |         -169 |     5.51115e-05 |\r\n",
      "| Test 8     | CP       |         176 |    0.099205 |            0 |     1           |\r\n",
      "| Test 8     | Greedy   |         176 |    0.007026 |            0 |    14.1197      |\r\n",
      "Test 9\r\n",
      "--- Solving with Constraint Programming (CP) ---\r\n",
      "--- Solving with Greedy Algorithm ---\r\n",
      "--- Solving with Branch and Bound (BnB) ---\r\n",
      "(Note: This can be very slow for non-trivial inputs)\r\n",
      "| instance   | method   |   objective |     time |   ∆obj_vs_CP |   speedup_vs_CP |\r\n",
      "|:-----------|:---------|------------:|---------:|-------------:|----------------:|\r\n",
      "| Test 9     | BnB      |           0 | 1808.03  |          -88 |         1.19786 |\r\n",
      "| Test 9     | CP       |          88 | 2165.77  |            0 |         1       |\r\n",
      "| Test 9     | Greedy   |        1202 |   41.044 |         1114 |        52.7672  |\r\n",
      "Test 10\r\n",
      "--- Solving with Constraint Programming (CP) ---\r\n",
      "--- Solving with Greedy Algorithm ---\r\n",
      "--- Solving with Branch and Bound (BnB) ---\r\n",
      "(Note: This can be very slow for non-trivial inputs)\r\n",
      "| instance   | method   |   objective |        time |   ∆obj_vs_CP |   speedup_vs_CP |\r\n",
      "|:-----------|:---------|------------:|------------:|-------------:|----------------:|\r\n",
      "| Test 10    | BnB      |          24 | 1800.12     |         -207 |     0.000140186 |\r\n",
      "| Test 10    | CP       |         231 |    0.252351 |            0 |     1           |\r\n",
      "| Test 10    | Greedy   |         231 |    0.006805 |            0 |    37.0832      |\r\n"
     ]
    }
   ],
   "source": [
    "!python main.py"
   ]
  }
 ],
 "metadata": {
  "kaggle": {
   "accelerator": "none",
   "dataSources": [],
   "dockerImageVersionId": 31040,
   "isGpuEnabled": false,
   "isInternetEnabled": true,
   "language": "python",
   "sourceType": "notebook"
  },
  "kernelspec": {
   "display_name": "Python 3",
   "language": "python",
   "name": "python3"
  },
  "language_info": {
   "codemirror_mode": {
    "name": "ipython",
    "version": 3
   },
   "file_extension": ".py",
   "mimetype": "text/x-python",
   "name": "python",
   "nbconvert_exporter": "python",
   "pygments_lexer": "ipython3",
   "version": "3.11.11"
  },
  "papermill": {
   "default_parameters": {},
   "duration": 16669.647671,
   "end_time": "2025-06-24T16:39:39.979299",
   "environment_variables": {},
   "exception": null,
   "input_path": "__notebook__.ipynb",
   "output_path": "__notebook__.ipynb",
   "parameters": {},
   "start_time": "2025-06-24T12:01:50.331628",
   "version": "2.6.0"
  }
 },
 "nbformat": 4,
 "nbformat_minor": 5
}
